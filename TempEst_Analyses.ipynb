{
 "cells": [
  {
   "attachments": {},
   "cell_type": "markdown",
   "metadata": {},
   "source": [
    "# North American 2022 EV-D68 outbreak analyses"
   ]
  },
  {
   "cell_type": "code",
   "execution_count": 15,
   "metadata": {},
   "outputs": [],
   "source": [
    "# import packages\n",
    "import scrubbing\n",
    "import pandas as pd\n",
    "import datetime_funcs"
   ]
  },
  {
   "attachments": {},
   "cell_type": "markdown",
   "metadata": {},
   "source": [
    "## EvD68 analyses of Only PHO samples for WGS, VP1 and VP1's Hyper-Variable Region"
   ]
  },
  {
   "attachments": {},
   "cell_type": "markdown",
   "metadata": {},
   "source": [
    "* Remove non-PHO sequences from maffta aligned WGS NCBI and PHO aligned fasta file."
   ]
  },
  {
   "cell_type": "code",
   "execution_count": null,
   "metadata": {},
   "outputs": [],
   "source": [
    "scrubbing.keep_if_tag_startswith('WGS_analysis/WGS_aligned.fasta', 'PHO_only_analysis/PHO_WGS_alignment.fasta', 'PHL')"
   ]
  },
  {
   "attachments": {},
   "cell_type": "markdown",
   "metadata": {},
   "source": [
    "* Producing metadata."
   ]
  },
  {
   "cell_type": "code",
   "execution_count": 2,
   "metadata": {},
   "outputs": [],
   "source": [
    "metadata = pd.read_csv('WGS_analysis/WGS_metadata_updated.csv')\n",
    "metadata['date'] = pd.to_datetime(metadata['date'])\n"
   ]
  },
  {
   "cell_type": "code",
   "execution_count": 11,
   "metadata": {},
   "outputs": [
    {
     "name": "stdout",
     "output_type": "stream",
     "text": [
      "2022-08-31 00:00:00 to 2022-10-06 00:00:00\n"
     ]
    }
   ],
   "source": [
    "# Filter to PHOL 2022 only samples\n",
    "metadata = metadata[metadata.Outbreak=='Canada 7-10/2022']\n",
    "print(str(metadata['date'].min())  + ' to ' + str(metadata['date'].max()))"
   ]
  },
  {
   "cell_type": "code",
   "execution_count": null,
   "metadata": {},
   "outputs": [],
   "source": [
    "metadata.name = metadata.Accession\n",
    "metadata['name']= metadata['Accession']\n",
    "metadata_TempEst = metadata[['Accession','date']]\n",
    "\n"
   ]
  },
  {
   "cell_type": "code",
   "execution_count": null,
   "metadata": {},
   "outputs": [],
   "source": [
    "metadata_TempEst.to_csv('PHO_only_analysis/PHO_metadata.tsv', index=False, sep='\\t')\n",
    "metadata[['name','date']].to_csv('PHO_only_analysis/PHO_metadata.csv', index=False)\n"
   ]
  },
  {
   "attachments": {},
   "cell_type": "markdown",
   "metadata": {},
   "source": [
    "### Creating a data set of only PHO sequences with younger duplicate sequences"
   ]
  },
  {
   "cell_type": "code",
   "execution_count": null,
   "metadata": {},
   "outputs": [],
   "source": [
    "ids_of_duplicated_sequences = scrubbing.get_ids_of_duplicated_sequences('PHO_only_analysis/PHO_WGS_alignment.fasta')\n",
    "ids_of_duplicated_sequences"
   ]
  },
  {
   "attachments": {},
   "cell_type": "markdown",
   "metadata": {},
   "source": [
    "There are no duplicated sequences"
   ]
  },
  {
   "attachments": {},
   "cell_type": "markdown",
   "metadata": {},
   "source": [
    "### Buiding tree"
   ]
  },
  {
   "cell_type": "code",
   "execution_count": null,
   "metadata": {},
   "outputs": [],
   "source": [
    "%%bash\n",
    "augur tree --substitution-model auto --nthreads auto --alignment PHO_only_analysis/PHO_WGS_alignment.fasta --output PHO_only_analysis/PHO_WGS_tree.subs.nwk"
   ]
  },
  {
   "attachments": {},
   "cell_type": "markdown",
   "metadata": {},
   "source": [
    "### Refining Tree\n",
    "\n",
    "* Refining Tree with regards to date. "
   ]
  },
  {
   "cell_type": "code",
   "execution_count": null,
   "metadata": {},
   "outputs": [],
   "source": [
    "%%bash\n",
    "augur refine --alignment PHO_only_analysis/PHO_WGS_alignment.fasta\\\n",
    "    --tree PHO_only_analysis/PHO_WGS_tree.subs.nwk\\\n",
    "    --metadata PHO_only_analysis/PHO_metadata.csv\\\n",
    "    --timetree --divergence-units mutations\\\n",
    "    --output-tree PHO_only_analysis/PHO_WGS_tree.time.nwk\\\n",
    "    --output-node-data PHO_only_analysis/PHO_WGS_tree.node.json --keep-root"
   ]
  },
  {
   "attachments": {},
   "cell_type": "markdown",
   "metadata": {},
   "source": [
    "### Talbe of TempEst analyses\n",
    "\n",
    "| Statistic | Value |\n",
    "|-----------|-------|\n",
    "| Time since Most Recent Common Ancestor |   2020.692    |\n",
    "| Evolutionary rate | 3.378 e-3 subs/site/year |"
   ]
  },
  {
   "attachments": {},
   "cell_type": "markdown",
   "metadata": {},
   "source": [
    "## VP1 gene\n",
    "\n",
    "* Remove non-PHO sequences from maffta aligned VP1 NCBI and PHO aligned fasta file."
   ]
  },
  {
   "cell_type": "code",
   "execution_count": null,
   "metadata": {},
   "outputs": [],
   "source": [
    "scrubbing.keep_if_tag_startswith('VP1_analysis/VP1_alignment.fasta', 'PHO_only_analysis/PHO_VP1_alignment.fasta', 'PHL')"
   ]
  },
  {
   "attachments": {},
   "cell_type": "markdown",
   "metadata": {},
   "source": [
    "### Buiding tree"
   ]
  },
  {
   "cell_type": "code",
   "execution_count": null,
   "metadata": {},
   "outputs": [],
   "source": [
    "%%bash\n",
    "augur tree --substitution-model auto --nthreads auto --alignment PHO_only_analysis/PHO_VP1_alignment.fasta --output PHO_only_analysis/PHO_VP1_tree.subs.nwk"
   ]
  },
  {
   "attachments": {},
   "cell_type": "markdown",
   "metadata": {},
   "source": [
    "### Refining Tree\n",
    "\n",
    "* Refining Tree with regards to date. "
   ]
  },
  {
   "cell_type": "code",
   "execution_count": null,
   "metadata": {},
   "outputs": [],
   "source": [
    "%%bash\n",
    "augur refine --alignment PHO_only_analysis/PHO_VP1_alignment.fasta\\\n",
    "    --tree PHO_only_analysis/PHO_VP1_tree.subs.nwk\\\n",
    "    --metadata PHO_only_analysis/PHO_metadata.csv\\\n",
    "    --timetree --divergence-units mutations\\\n",
    "    --output-tree PHO_only_analysis/PHO_VP1_tree.time.nwk\\\n",
    "    --output-node-data PHO_only_analysis/PHO_VP1_tree.node.json --keep-root"
   ]
  },
  {
   "attachments": {},
   "cell_type": "markdown",
   "metadata": {},
   "source": [
    "### Talbe of TempEst analyses\n",
    "\n",
    "| Statistic | Value |\n",
    "|-----------|-------|\n",
    "| Time since Most Recent Common Ancestor |   2022.3032    |\n",
    "| Evolutionary rate | 1.5755e-2 sub/site/year |"
   ]
  },
  {
   "attachments": {},
   "cell_type": "markdown",
   "metadata": {},
   "source": [
    "## VP1 gene Hyper-Variable Region (H-VR)\n",
    "\n",
    "Venkata has kindly trimmed the VP1 aligned file further to this region. We need to select the "
   ]
  },
  {
   "cell_type": "code",
   "execution_count": null,
   "metadata": {},
   "outputs": [],
   "source": [
    "scrubbing.keep_if_tag_startswith('VP1_HVR_analysis/VP1_HVR_alignment.fasta', 'PHO_only_analysis/PHO_VP1_H-VR_alignment.fasta', 'PHL')"
   ]
  },
  {
   "attachments": {},
   "cell_type": "markdown",
   "metadata": {},
   "source": [
    "* The VP1 metadata files from before are available. Therefore, only building tree and refining it are needed."
   ]
  },
  {
   "attachments": {},
   "cell_type": "markdown",
   "metadata": {},
   "source": [
    "### Buiding tree"
   ]
  },
  {
   "cell_type": "code",
   "execution_count": null,
   "metadata": {},
   "outputs": [],
   "source": [
    "%%bash\n",
    "augur tree --substitution-model auto --nthreads auto --alignment PHO_only_analysis/PHO_VP1_H-VR_alignment.fasta --output PHO_only_analysis/PHO_VP1_H-VR_tree.subs.nwk"
   ]
  },
  {
   "attachments": {},
   "cell_type": "markdown",
   "metadata": {},
   "source": [
    "### Refining Tree\n",
    "\n",
    "* Refining Tree with regards to date. "
   ]
  },
  {
   "cell_type": "code",
   "execution_count": null,
   "metadata": {},
   "outputs": [],
   "source": [
    "%%bash\n",
    "augur refine --alignment PHO_only_analysis/PHO_VP1_H-VR_alignment.fasta\\\n",
    "    --tree PHO_only_analysis/PHO_VP1_H-VR_tree.subs.nwk\\\n",
    "    --metadata PHO_only_analysis/PHO_metadata.csv\\\n",
    "    --timetree --divergence-units mutations\\\n",
    "    --output-tree PHO_only_analysis/PHO_VP1_H-VR_tree.time.nwk\\\n",
    "    --output-node-data PHO_only_analysis/PHO_VP1_H-VR_tree.node.json --keep-root"
   ]
  },
  {
   "attachments": {},
   "cell_type": "markdown",
   "metadata": {},
   "source": [
    "### Talbe of TempEst analyses\n",
    "\n",
    "| Statistic | Value |\n",
    "|-----------|-------|\n",
    "| Time since Most Recent Common Ancestor |   2022.6409    |\n",
    "| Evolutionary rate | 5.1533 e-3 subs/site/year  |"
   ]
  },
  {
   "attachments": {},
   "cell_type": "markdown",
   "metadata": {},
   "source": [
    "## EvD68 analyses of Only JHL 2022 samples for WGS, VP1 and VP1's Hyper-Variable Region"
   ]
  },
  {
   "attachments": {},
   "cell_type": "markdown",
   "metadata": {},
   "source": [
    "## Selecting JHL 2022 sequences\n",
    "\n",
    "* JHL 2022 metadate\n"
   ]
  },
  {
   "cell_type": "code",
   "execution_count": 16,
   "metadata": {},
   "outputs": [],
   "source": [
    "metadata = pd.read_csv('WGS_analysis/WGS_metadata_updated.csv')\n",
    "metadata['date'] = pd.to_datetime(metadata['date'])"
   ]
  },
  {
   "cell_type": "code",
   "execution_count": 17,
   "metadata": {},
   "outputs": [
    {
     "data": {
      "text/plain": [
       "1134"
      ]
     },
     "execution_count": 17,
     "metadata": {},
     "output_type": "execute_result"
    }
   ],
   "source": [
    "len(metadata)"
   ]
  },
  {
   "cell_type": "code",
   "execution_count": 18,
   "metadata": {},
   "outputs": [
    {
     "name": "stdout",
     "output_type": "stream",
     "text": [
      "2022-07-08 00:00:00 to 2022-09-12 00:00:00\n"
     ]
    }
   ],
   "source": [
    "# Filter to JHL 2022 only samples\n",
    "metadata = metadata[metadata.Outbreak=='USA 7-9/2022']\n",
    "print(str(metadata['date'].min())  + ' to ' + str(metadata['date'].max()))\n"
   ]
  },
  {
   "cell_type": "code",
   "execution_count": 19,
   "metadata": {},
   "outputs": [
    {
     "data": {
      "text/plain": [
       "2022.6957762557079"
      ]
     },
     "execution_count": 19,
     "metadata": {},
     "output_type": "execute_result"
    }
   ],
   "source": [
    "datetime_funcs.date_to_year_fraction(metadata['date'].max())"
   ]
  },
  {
   "cell_type": "code",
   "execution_count": null,
   "metadata": {},
   "outputs": [],
   "source": [
    "metadata.name = metadata.Accession\n",
    "metadata_TempEst = metadata[['Accession','date']]\n",
    "metadata_TempEst.to_csv('JHL_only_analysis/JHL_metadata.tsv', index=False, sep='\\t')\n",
    "metadata[['name','date']].to_csv('JHL_only_analysis/JHL_metadata.csv', index=False)"
   ]
  },
  {
   "attachments": {},
   "cell_type": "markdown",
   "metadata": {},
   "source": [
    "\n",
    "* Remove non-JHL sequences from maffta aligned WGS NCBI and JHL aligned fasta file."
   ]
  },
  {
   "cell_type": "code",
   "execution_count": null,
   "metadata": {},
   "outputs": [],
   "source": [
    "accessions_to_keep = metadata.Accession.to_list()\n",
    "scrubbing.remove_if_accession_not_in_list('WGS_analysis/WGS_aligned.fasta', 'JHL_only_analysis/JHL_WGS_alignment.fasta', accessions_to_keep)"
   ]
  },
  {
   "attachments": {},
   "cell_type": "markdown",
   "metadata": {},
   "source": [
    "### Creating a data set of only JHL sequences with younger duplicate sequences"
   ]
  },
  {
   "cell_type": "code",
   "execution_count": null,
   "metadata": {},
   "outputs": [],
   "source": [
    "ids_of_duplicated_sequences = scrubbing.get_ids_of_duplicated_sequences('JHL_only_analysis/JHL_WGS_alignment.fasta')\n",
    "ids_of_duplicated_sequences"
   ]
  },
  {
   "attachments": {},
   "cell_type": "markdown",
   "metadata": {},
   "source": [
    "There are no duplicated sequences"
   ]
  },
  {
   "attachments": {},
   "cell_type": "markdown",
   "metadata": {},
   "source": [
    "## WGS Work\n"
   ]
  },
  {
   "attachments": {},
   "cell_type": "markdown",
   "metadata": {},
   "source": [
    "### Buiding tree"
   ]
  },
  {
   "cell_type": "code",
   "execution_count": null,
   "metadata": {},
   "outputs": [],
   "source": [
    "%%bash\n",
    "augur tree --substitution-model auto --nthreads auto --alignment JHL_only_analysis/JHL_WGS_alignment.fasta --output JHL_only_analysis/JHL_WGS_tree.subs.nwk"
   ]
  },
  {
   "attachments": {},
   "cell_type": "markdown",
   "metadata": {},
   "source": [
    "### Refining Tree\n",
    "\n",
    "* Refining Tree with regards to date. "
   ]
  },
  {
   "cell_type": "code",
   "execution_count": null,
   "metadata": {},
   "outputs": [],
   "source": [
    "%%bash\n",
    "augur refine --alignment JHL_only_analysis/JHL_WGS_alignment.fasta\\\n",
    "    --tree JHL_only_analysis/JHL_WGS_tree.subs.nwk\\\n",
    "    --metadata JHL_only_analysis/JHL_metadata.csv\\\n",
    "    --timetree --divergence-units mutations\\\n",
    "    --output-tree JHL_only_analysis/JHL_WGS_tree.time.nwk\\\n",
    "    --output-node-data JHL_only_analysis/JHL_WGS_tree.node.json --keep-root"
   ]
  },
  {
   "attachments": {},
   "cell_type": "markdown",
   "metadata": {},
   "source": [
    "### Talbe of TempEst analyses\n",
    "\n",
    "| Statistic | Value |\n",
    "|-----------|-------|\n",
    "| Time since Most Recent Common Ancestor |   2022.2436    |\n",
    "| Evolutionary rate | 2.0072 e-2 subs/site/year |"
   ]
  },
  {
   "attachments": {},
   "cell_type": "markdown",
   "metadata": {},
   "source": [
    "## VP1 gene\n",
    "\n",
    "* Remove non-JHL sequences from maffta aligned VP1 NCBI and JHL aligned fasta file."
   ]
  },
  {
   "cell_type": "code",
   "execution_count": null,
   "metadata": {},
   "outputs": [],
   "source": [
    "scrubbing.remove_if_accession_not_in_list('VP1_analysis/VP1_alignment.fasta', 'JHL_only_analysis/JHL_VP1_alignment.fasta', accessions_to_keep)"
   ]
  },
  {
   "attachments": {},
   "cell_type": "markdown",
   "metadata": {},
   "source": [
    "### Buiding tree"
   ]
  },
  {
   "cell_type": "code",
   "execution_count": null,
   "metadata": {},
   "outputs": [],
   "source": [
    "%%bash\n",
    "augur tree --substitution-model auto --nthreads auto --alignment JHL_only_analysis/JHL_VP1_alignment.fasta --output JHL_only_analysis/JHL_VP1_tree.subs.nwk"
   ]
  },
  {
   "attachments": {},
   "cell_type": "markdown",
   "metadata": {},
   "source": [
    "### Refining Tree\n",
    "\n",
    "* Refining Tree with regards to date. "
   ]
  },
  {
   "cell_type": "code",
   "execution_count": null,
   "metadata": {},
   "outputs": [],
   "source": [
    "%%bash\n",
    "augur refine --alignment JHL_only_analysis/JHL_VP1_alignment.fasta\\\n",
    "    --tree JHL_only_analysis/JHL_VP1_tree.subs.nwk\\\n",
    "    --metadata JHL_only_analysis/JHL_metadata.csv\\\n",
    "    --timetree --divergence-units mutations\\\n",
    "    --output-tree JHL_only_analysis/JHL_VP1_tree.time.nwk\\\n",
    "    --output-node-data JHL_only_analysis/JHL_VP1_tree.node.json --keep-root"
   ]
  },
  {
   "attachments": {},
   "cell_type": "markdown",
   "metadata": {},
   "source": [
    "### Talbe of TempEst analyses\n",
    "\n",
    "| Statistic | Value |\n",
    "|-----------|-------|\n",
    "| Time since Most Recent Common Ancestor |   2022.3367    |\n",
    "| Evolutionary rate | 4.3955e-2 sub/site/year |"
   ]
  },
  {
   "attachments": {},
   "cell_type": "markdown",
   "metadata": {},
   "source": [
    "## VP1 gene Hyper-Variable Region (H-VR)\n",
    "\n",
    "Venkata has kindly trimmed the VP1 aligned file further to this region. We need to select the "
   ]
  },
  {
   "cell_type": "code",
   "execution_count": null,
   "metadata": {},
   "outputs": [],
   "source": [
    "scrubbing.remove_if_accession_not_in_list('VP1_HVR_analysis/VP1_HVR_alignment.fasta', 'JHL_only_analysis/JHL_VP1_H-VR_alignment.fasta', accessions_to_keep)"
   ]
  },
  {
   "attachments": {},
   "cell_type": "markdown",
   "metadata": {},
   "source": [
    "* The VP1 metadata files from before are available. Therefore, only building tree and refining it are needed."
   ]
  },
  {
   "attachments": {},
   "cell_type": "markdown",
   "metadata": {},
   "source": [
    "### Buiding tree"
   ]
  },
  {
   "cell_type": "code",
   "execution_count": null,
   "metadata": {},
   "outputs": [],
   "source": [
    "%%bash\n",
    "augur tree --substitution-model auto --nthreads auto --alignment JHL_only_analysis/JHL_VP1_H-VR_alignment.fasta --output JHL_only_analysis/JHL_VP1_H-VR_tree.subs.nwk"
   ]
  },
  {
   "attachments": {},
   "cell_type": "markdown",
   "metadata": {},
   "source": [
    "### Refining Tree\n",
    "\n",
    "* Refining Tree with regards to date. "
   ]
  },
  {
   "cell_type": "code",
   "execution_count": null,
   "metadata": {},
   "outputs": [],
   "source": [
    "%%bash\n",
    "augur refine --alignment JHL_only_analysis/JHL_VP1_H-VR_alignment.fasta\\\n",
    "    --tree JHL_only_analysis/JHL_VP1_H-VR_tree.subs.nwk\\\n",
    "    --metadata JHL_only_analysis/JHL_metadata.csv\\\n",
    "    --timetree --divergence-units mutations\\\n",
    "    --output-tree JHL_only_analysis/JHL_VP1_H-VR_tree.time.nwk\\\n",
    "    --output-node-data JHL_only_analysis/JHL_VP1_H-VR_tree.node.json --keep-root"
   ]
  },
  {
   "attachments": {},
   "cell_type": "markdown",
   "metadata": {},
   "source": [
    "### Talbe of TempEst analyses\n",
    "\n",
    "| Statistic | Value |\n",
    "|-----------|-------|\n",
    "| Time since Most Recent Common Ancestor |   2022.1805    |\n",
    "| Evolutionary rate | 3.86798 e-2 subs/site/year  |"
   ]
  },
  {
   "attachments": {},
   "cell_type": "markdown",
   "metadata": {},
   "source": [
    "# EvD68 analyses of PHO and JHL 2022 samples for WGS, VP1 and VP1's Hyper-Variable Region"
   ]
  },
  {
   "attachments": {},
   "cell_type": "markdown",
   "metadata": {},
   "source": [
    "## Selecting JHL and PHO 2022 sequences\n",
    "\n",
    "* Load metadate\n"
   ]
  },
  {
   "cell_type": "code",
   "execution_count": null,
   "metadata": {},
   "outputs": [],
   "source": [
    "metadata = pd.read_csv('WGS_analysis/WGS_metadata_updated.csv')\n"
   ]
  },
  {
   "cell_type": "code",
   "execution_count": null,
   "metadata": {},
   "outputs": [],
   "source": [
    "metadata.Outbreak.value_counts()"
   ]
  },
  {
   "cell_type": "code",
   "execution_count": null,
   "metadata": {},
   "outputs": [],
   "source": [
    "# Filter to JHL 2022 only samples\n",
    "metadata = metadata[metadata.Outbreak.isin(['USA 7-9/2022', 'Canada 7-10/2022'])]\n",
    "\n"
   ]
  },
  {
   "cell_type": "code",
   "execution_count": null,
   "metadata": {},
   "outputs": [],
   "source": [
    "metadata.name = metadata.Accession\n",
    "metadata_TempEst = metadata[['Accession','date']]\n",
    "metadata_TempEst.to_csv('North_America_2022_analysis/PHO_and_JHL_metadata.tsv', index=False, sep='\\t')\n",
    "metadata[['name','date']].to_csv('North_America_2022_analysis/PHO_and_JHL_metadata.csv', index=False)"
   ]
  },
  {
   "attachments": {},
   "cell_type": "markdown",
   "metadata": {},
   "source": [
    "\n",
    "* Selecting only PHO and JHL 2022 sequences from maffta aligned WGS NCBI and PHO aligned fasta file."
   ]
  },
  {
   "cell_type": "code",
   "execution_count": null,
   "metadata": {},
   "outputs": [],
   "source": [
    "accessions_to_keep = metadata.Accession.to_list()\n",
    "scrubbing.remove_if_accession_not_in_list('WGS_analysis/WGS_aligned.fasta', 'North_America_2022_analysis/PHO_and_JHL_WGS_alignment.fasta', accessions_to_keep)"
   ]
  },
  {
   "attachments": {},
   "cell_type": "markdown",
   "metadata": {},
   "source": [
    "### Crating a set with younger duplicated sequences removed."
   ]
  },
  {
   "cell_type": "code",
   "execution_count": null,
   "metadata": {},
   "outputs": [],
   "source": [
    "ids_of_duplicated_sequences = scrubbing.get_ids_of_duplicated_sequences('North_America_2022_analysis/PHO_and_JHL_WGS_alignment.fasta')\n",
    "ids_of_duplicated_sequences"
   ]
  },
  {
   "attachments": {},
   "cell_type": "markdown",
   "metadata": {},
   "source": [
    "There are no duplicated sequences."
   ]
  },
  {
   "attachments": {},
   "cell_type": "markdown",
   "metadata": {},
   "source": [
    "## WGS Work\n"
   ]
  },
  {
   "attachments": {},
   "cell_type": "markdown",
   "metadata": {},
   "source": [
    "### Buiding tree"
   ]
  },
  {
   "cell_type": "code",
   "execution_count": null,
   "metadata": {},
   "outputs": [],
   "source": [
    "%%bash\n",
    "augur tree --substitution-model auto --nthreads auto --alignment North_America_2022_analysis/PHO_and_JHL_WGS_alignment.fasta --output North_America_2022_analysis/PHO_and_JHL_WGS_tree.subs.nwk"
   ]
  },
  {
   "attachments": {},
   "cell_type": "markdown",
   "metadata": {},
   "source": [
    "### Refining Tree\n",
    "\n",
    "* Refining Tree with regards to date. "
   ]
  },
  {
   "cell_type": "code",
   "execution_count": null,
   "metadata": {},
   "outputs": [],
   "source": [
    "%%bash\n",
    "augur refine --alignment North_America_2022_analysis/PHO_and_JHL_WGS_alignment.fasta\\\n",
    "    --tree North_America_2022_analysis/PHO_and_JHL_WGS_tree.subs.nwk\\\n",
    "    --metadata North_America_2022_analysis/PHO_and_JHL_metadata.csv\\\n",
    "    --timetree --divergence-units mutations\\\n",
    "    --output-tree North_America_2022_analysis/PHO_and_JHL_WGS_tree.time.nwk\\\n",
    "    --output-node-data North_America_2022_analysis/PHO_and_JHL_WGS_tree.node.json --keep-root"
   ]
  },
  {
   "attachments": {},
   "cell_type": "markdown",
   "metadata": {},
   "source": [
    "### Talbe of TempEst analyses\n",
    "\n",
    "| Statistic | Value |\n",
    "|-----------|-------|\n",
    "| Time since Most Recent Common Ancestor |   2021.0939    |\n",
    "| Evolutionary rate | 3.3251 e-3 subs/site/year |"
   ]
  },
  {
   "attachments": {},
   "cell_type": "markdown",
   "metadata": {},
   "source": [
    "## VP1 gene\n",
    "\n",
    "* Remove non-JHL sequences from maffta aligned VP1 NCBI and JHL aligned fasta file."
   ]
  },
  {
   "cell_type": "code",
   "execution_count": null,
   "metadata": {},
   "outputs": [],
   "source": [
    "scrubbing.remove_if_accession_not_in_list('VP1_analysis/VP1_alignment.fasta', 'North_America_2022_analysis/PHO_and_JHL_VP1_alignment.fasta', accessions_to_keep)"
   ]
  },
  {
   "attachments": {},
   "cell_type": "markdown",
   "metadata": {},
   "source": [
    "### Buiding tree"
   ]
  },
  {
   "cell_type": "code",
   "execution_count": null,
   "metadata": {},
   "outputs": [],
   "source": [
    "%%bash\n",
    "augur tree --substitution-model auto --nthreads auto --alignment North_America_2022_analysis/PHO_and_JHL_VP1_alignment.fasta --output North_America_2022_analysis/PHO_and_JHL_VP1_tree.subs.nwk"
   ]
  },
  {
   "attachments": {},
   "cell_type": "markdown",
   "metadata": {},
   "source": [
    "### Refining Tree\n",
    "\n",
    "* Refining Tree with regards to date. "
   ]
  },
  {
   "cell_type": "code",
   "execution_count": null,
   "metadata": {},
   "outputs": [],
   "source": [
    "%%bash\n",
    "augur refine --alignment North_America_2022_analysis/PHO_and_JHL_VP1_alignment.fasta\\\n",
    "    --tree North_America_2022_analysis/PHO_and_JHL_VP1_tree.subs.nwk\\\n",
    "    --metadata North_America_2022_analysis/PHO_and_JHL_metadata.csv\\\n",
    "    --timetree --divergence-units mutations\\\n",
    "    --output-tree North_America_2022_analysis/PHO_and_JHL_VP1_tree.time.nwk\\\n",
    "    --output-node-data North_America_2022_analysis/PHO_and_JHL_VP1_tree.node.json --keep-root"
   ]
  },
  {
   "attachments": {},
   "cell_type": "markdown",
   "metadata": {},
   "source": [
    "### Talbe of TempEst analyses\n",
    "\n",
    "| Statistic | Value |\n",
    "|-----------|-------|\n",
    "| Time since Most Recent Common Ancestor |   2022.0177    |\n",
    "| Evolutionary rate | 1.1934e-2 sub/site/year |"
   ]
  },
  {
   "attachments": {},
   "cell_type": "markdown",
   "metadata": {},
   "source": [
    "## VP1 gene Hyper-Variable Region (H-VR)\n",
    "\n",
    "Venkata has kindly trimmed the VP1 aligned file further to this region. We need to select the "
   ]
  },
  {
   "cell_type": "code",
   "execution_count": null,
   "metadata": {},
   "outputs": [],
   "source": [
    "scrubbing.remove_if_accession_not_in_list('VP1_HVR_analysis/VP1_HVR_alignment.fasta', 'North_America_2022_analysis/PHO_and_JHL_VP1_H-VR_alignment.fasta', accessions_to_keep)"
   ]
  },
  {
   "attachments": {},
   "cell_type": "markdown",
   "metadata": {},
   "source": [
    "* The VP1 metadata files from before are available. Therefore, only building tree and refining it are needed."
   ]
  },
  {
   "attachments": {},
   "cell_type": "markdown",
   "metadata": {},
   "source": [
    "### Buiding tree"
   ]
  },
  {
   "cell_type": "code",
   "execution_count": null,
   "metadata": {},
   "outputs": [],
   "source": [
    "%%bash\n",
    "augur tree --substitution-model auto --nthreads auto --alignment North_America_2022_analysis/PHO_and_JHL_VP1_H-VR_alignment.fasta --output North_America_2022_analysis/PHO_and_JHL_VP1_H-VR_tree.subs.nwk"
   ]
  },
  {
   "attachments": {},
   "cell_type": "markdown",
   "metadata": {},
   "source": [
    "### Refining Tree\n",
    "\n",
    "* Refining Tree with regards to date. "
   ]
  },
  {
   "cell_type": "code",
   "execution_count": null,
   "metadata": {},
   "outputs": [],
   "source": [
    "%%bash\n",
    "augur refine --alignment North_America_2022_analysis/PHO_and_JHL_VP1_H-VR_alignment.fasta\\\n",
    "    --tree North_America_2022_analysis/PHO_and_JHL_VP1_H-VR_tree.subs.nwk\\\n",
    "    --metadata North_America_2022_analysis/PHO_and_JHL_metadata.csv\\\n",
    "    --timetree --divergence-units mutations\\\n",
    "    --output-tree North_America_2022_analysis/PHO_and_JHL_VP1_H-VR_tree.time.nwk\\\n",
    "    --output-node-data North_America_2022_analysis/PHO_and_JHL_VP1_H-VR_tree.node.json --keep-root"
   ]
  },
  {
   "attachments": {},
   "cell_type": "markdown",
   "metadata": {},
   "source": [
    "### Talbe of TempEst analyses\n",
    "\n",
    "| Statistic | Value |\n",
    "|-----------|-------|\n",
    "| Time since Most Recent Common Ancestor |   2022.6766    |\n",
    "| Evolutionary rate | 1.4242 e-2 subs/site/year  |"
   ]
  },
  {
   "attachments": {},
   "cell_type": "markdown",
   "metadata": {},
   "source": []
  }
 ],
 "metadata": {
  "kernelspec": {
   "display_name": "Python 3",
   "language": "python",
   "name": "python3"
  },
  "language_info": {
   "codemirror_mode": {
    "name": "ipython",
    "version": 3
   },
   "file_extension": ".py",
   "mimetype": "text/x-python",
   "name": "python",
   "nbconvert_exporter": "python",
   "pygments_lexer": "ipython3",
   "version": "3.11.4"
  },
  "orig_nbformat": 4
 },
 "nbformat": 4,
 "nbformat_minor": 2
}
