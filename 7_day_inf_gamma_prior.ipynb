{
 "cells": [
  {
   "cell_type": "code",
   "execution_count": 1,
   "metadata": {},
   "outputs": [],
   "source": [
    "from scipy.stats import gamma \n",
    "import matplotlib.pyplot as plt\n",
    "import seaborn as sns\n",
    "import numpy as np\n",
    "import pandas as pd"
   ]
  },
  {
   "cell_type": "code",
   "execution_count": 2,
   "metadata": {},
   "outputs": [],
   "source": [
    "def gamma_from_mean(mu, sd=None, variance=None):\n",
    "    \"\"\"Convert mean to shape (a) and scale of gama distribution.\n",
    "\n",
    "    See:\n",
    "        Bolker, Benjamin M. 2008. “Gamma.” In Ecological Models and Data in R, 131–133. Princeton University Press.\n",
    "        https://en.wikipedia.org/wiki/Gamma_distribution#Maximum_likelihood_estimation\n",
    "        https://stats.stackexchange.com/questions/342639/how-to-find-alpha-and-beta-from-a-gamma-distribution\n",
    "        \n",
    "\n",
    "    Parameters\n",
    "    ----------\n",
    "    mean : _type_\n",
    "        _description_\n",
    "    sd : _type_, optional\n",
    "        _description_, by default None\n",
    "    variance : _type_, optional\n",
    "        _description_, by default None\n",
    "\n",
    "    Returns\n",
    "    -------\n",
    "    _type_\n",
    "        _description_\n",
    "    \"\"\"\n",
    "    if variance is None:\n",
    "        if sd is None:\n",
    "            variance =1\n",
    "        else:\n",
    "            variance = sd**2\n",
    "    return {'a':(mu**2)/variance, 'scale':variance/mu}"
   ]
  },
  {
   "cell_type": "code",
   "execution_count": 3,
   "metadata": {},
   "outputs": [],
   "source": [
    "def gamma_df(mu, min_range=1, max_range=500, step=1, sd=None, variance=None, return_gamma_dict=False):\n",
    "    \"\"\"Generate dataframe outlining pdf of gamma distrubtion\n",
    "\n",
    "    Parameters\n",
    "    ----------\n",
    "    mu : float or int\n",
    "        Mean in years\n",
    "    min_range : int, optional\n",
    "        Min range value in years, by default 1\n",
    "    max_range : int, optional\n",
    "        Max range value in years, by default 500\n",
    "    sd : float or int, optional\n",
    "        Standard deviation in years., by default None\n",
    "    variance : float or int, optional\n",
    "        Variance in years, by default None\n",
    "\n",
    "    Returns\n",
    "    -------\n",
    "    pandas.DataFrame\n",
    "        Dataframe outlining pdf of gamma distrubtion for a range.\n",
    "    \"\"\"\n",
    "    range = np.arange(min_range, max_range+step, step=step)\n",
    "    gamma_dict = gamma_from_mean(mu=mu,sd=sd, variance=variance)\n",
    "    probabilities = gamma.pdf(x=range,**gamma_dict)\n",
    "    df = pd.DataFrame({'X':range,'Probability': probabilities})\n",
    "    if return_gamma_dict:\n",
    "        return gamma_dict, df\n",
    "    else:\n",
    "        df"
   ]
  },
  {
   "cell_type": "code",
   "execution_count": 4,
   "metadata": {},
   "outputs": [],
   "source": [
    "def mean_rate_years_gamma_df(mu, min_range=1, max_range=500, step=1, sd=None, variance=None, return_gamma_dict=False):\n",
    "    \"\"\"Generate dataframe outlining pdf of gamma distrubtion for mean yearly rate.\n",
    "\n",
    "    Parameters\n",
    "    ----------\n",
    "    mu : float or int\n",
    "        Mean in years\n",
    "    min_range : int, optional\n",
    "        Min range value in years, by default 1\n",
    "    max_range : int, optional\n",
    "        Max range value in years, by default 500\n",
    "    sd : float or int, optional\n",
    "        Standard deviation in years., by default None\n",
    "    variance : float or int, optional\n",
    "        Variance in years, by default None\n",
    "\n",
    "    Returns\n",
    "    -------\n",
    "    pandas.DataFrame\n",
    "        Dataframe outlining pdf of gamma distrubtion for mean yearly rate.\n",
    "    \"\"\"\n",
    "    rate_years = np.arange(min_range, max_range+step, step=step)\n",
    "    rate_days = rate_years/365\n",
    "    period_days = 1/rate_days\n",
    "    gamma_dict = gamma_from_mean(mu=mu,sd=sd, variance=variance)\n",
    "    probabilities = gamma.pdf(x=rate_years,**gamma_dict)\n",
    "    df = pd.DataFrame({'Rate per Year':rate_years, 'Rate per Day':rate_days, 'Period in Days': period_days, 'Probability': probabilities})\n",
    "    if return_gamma_dict:\n",
    "        return gamma_dict, df\n",
    "    else:\n",
    "        df"
   ]
  },
  {
   "cell_type": "code",
   "execution_count": 5,
   "metadata": {},
   "outputs": [],
   "source": [
    "def mean_rate_years_gamma_plot(mu, min_range=1, max_range=500, sd=None, variance=None):\n",
    "    \"\"\"Generate plot outlining pdf of gamma distrubtion for mean yearly rate.\n",
    "\n",
    "    Parameters\n",
    "    ----------\n",
    "    mu : float or int\n",
    "        Mean in years\n",
    "    min_range : int, optional\n",
    "        Min range value in years, by default 1\n",
    "    max_range : int, optional\n",
    "        Max range value in years, by default 500\n",
    "    sd : float or int, optional\n",
    "        Standard deviation in years., by default None\n",
    "    variance : float or int, optional\n",
    "        Variance in years, by default None\n",
    "    \"\"\"\n",
    "    df = mean_rate_years_gamma_df(mu, min_range, max_range, sd, variance)\n",
    "    fig, axs = plt.subplots(1,3,sharey=True)\n",
    "    axs[0].plot(df['Rate per Year'], df.Probability, 'r-', lw=1, alpha=0.6)\n",
    "    axs[1].plot(df['Rate per Day'], df.Probability, 'r-', lw=1, alpha=0.6)\n",
    "    axs[2].plot(df['Period in Days'], df.Probability, 'r-', lw=1, alpha=0.6)"
   ]
  },
  {
   "cell_type": "code",
   "execution_count": 6,
   "metadata": {},
   "outputs": [],
   "source": [
    "gamma_dicts = {}"
   ]
  },
  {
   "attachments": {},
   "cell_type": "markdown",
   "metadata": {},
   "source": [
    "# Infection period gamma distributions"
   ]
  },
  {
   "cell_type": "code",
   "execution_count": 7,
   "metadata": {},
   "outputs": [
    {
     "data": {
      "text/plain": [
       "24.333333333333336"
      ]
     },
     "execution_count": 7,
     "metadata": {},
     "output_type": "execute_result"
    }
   ],
   "source": [
    "# set mean and standard deviation\n",
    "mean_infection_period = 7\n",
    "sigma_yearly = 15\n",
    "sd_inf_period_daily = 1/(sigma_yearly/365)\n",
    "sd_inf_period_daily"
   ]
  },
  {
   "cell_type": "code",
   "execution_count": 8,
   "metadata": {},
   "outputs": [
    {
     "data": {
      "text/html": [
       "<div>\n",
       "<style scoped>\n",
       "    .dataframe tbody tr th:only-of-type {\n",
       "        vertical-align: middle;\n",
       "    }\n",
       "\n",
       "    .dataframe tbody tr th {\n",
       "        vertical-align: top;\n",
       "    }\n",
       "\n",
       "    .dataframe thead th {\n",
       "        text-align: right;\n",
       "    }\n",
       "</style>\n",
       "<table border=\"1\" class=\"dataframe\">\n",
       "  <thead>\n",
       "    <tr style=\"text-align: right;\">\n",
       "      <th></th>\n",
       "      <th>Rate per Year</th>\n",
       "      <th>Rate per Day</th>\n",
       "      <th>Period in Days</th>\n",
       "      <th>Probability</th>\n",
       "      <th>Mean Rate</th>\n",
       "    </tr>\n",
       "  </thead>\n",
       "  <tbody>\n",
       "    <tr>\n",
       "      <th>0</th>\n",
       "      <td>1</td>\n",
       "      <td>0.002740</td>\n",
       "      <td>365.000000</td>\n",
       "      <td>4.306742e-16</td>\n",
       "      <td>Yearly=52, daily= 1/7</td>\n",
       "    </tr>\n",
       "    <tr>\n",
       "      <th>1</th>\n",
       "      <td>2</td>\n",
       "      <td>0.005479</td>\n",
       "      <td>182.500000</td>\n",
       "      <td>7.086962e-13</td>\n",
       "      <td>Yearly=52, daily= 1/7</td>\n",
       "    </tr>\n",
       "    <tr>\n",
       "      <th>2</th>\n",
       "      <td>3</td>\n",
       "      <td>0.008219</td>\n",
       "      <td>121.666667</td>\n",
       "      <td>4.900317e-11</td>\n",
       "      <td>Yearly=52, daily= 1/7</td>\n",
       "    </tr>\n",
       "    <tr>\n",
       "      <th>3</th>\n",
       "      <td>4</td>\n",
       "      <td>0.010959</td>\n",
       "      <td>91.250000</td>\n",
       "      <td>9.255527e-10</td>\n",
       "      <td>Yearly=52, daily= 1/7</td>\n",
       "    </tr>\n",
       "    <tr>\n",
       "      <th>4</th>\n",
       "      <td>5</td>\n",
       "      <td>0.013699</td>\n",
       "      <td>73.000000</td>\n",
       "      <td>8.585466e-09</td>\n",
       "      <td>Yearly=52, daily= 1/7</td>\n",
       "    </tr>\n",
       "    <tr>\n",
       "      <th>...</th>\n",
       "      <td>...</td>\n",
       "      <td>...</td>\n",
       "      <td>...</td>\n",
       "      <td>...</td>\n",
       "      <td>...</td>\n",
       "    </tr>\n",
       "    <tr>\n",
       "      <th>145</th>\n",
       "      <td>146</td>\n",
       "      <td>0.400000</td>\n",
       "      <td>2.500000</td>\n",
       "      <td>8.449227e-07</td>\n",
       "      <td>Yearly=52, daily= 1/7</td>\n",
       "    </tr>\n",
       "    <tr>\n",
       "      <th>146</th>\n",
       "      <td>147</td>\n",
       "      <td>0.402740</td>\n",
       "      <td>2.482993</td>\n",
       "      <td>7.229507e-07</td>\n",
       "      <td>Yearly=52, daily= 1/7</td>\n",
       "    </tr>\n",
       "    <tr>\n",
       "      <th>147</th>\n",
       "      <td>148</td>\n",
       "      <td>0.405479</td>\n",
       "      <td>2.466216</td>\n",
       "      <td>6.182711e-07</td>\n",
       "      <td>Yearly=52, daily= 1/7</td>\n",
       "    </tr>\n",
       "    <tr>\n",
       "      <th>148</th>\n",
       "      <td>149</td>\n",
       "      <td>0.408219</td>\n",
       "      <td>2.449664</td>\n",
       "      <td>5.284826e-07</td>\n",
       "      <td>Yearly=52, daily= 1/7</td>\n",
       "    </tr>\n",
       "    <tr>\n",
       "      <th>149</th>\n",
       "      <td>150</td>\n",
       "      <td>0.410959</td>\n",
       "      <td>2.433333</td>\n",
       "      <td>4.515096e-07</td>\n",
       "      <td>Yearly=52, daily= 1/7</td>\n",
       "    </tr>\n",
       "  </tbody>\n",
       "</table>\n",
       "<p>150 rows × 5 columns</p>\n",
       "</div>"
      ],
      "text/plain": [
       "     Rate per Year  Rate per Day  Period in Days   Probability  \\\n",
       "0                1      0.002740      365.000000  4.306742e-16   \n",
       "1                2      0.005479      182.500000  7.086962e-13   \n",
       "2                3      0.008219      121.666667  4.900317e-11   \n",
       "3                4      0.010959       91.250000  9.255527e-10   \n",
       "4                5      0.013699       73.000000  8.585466e-09   \n",
       "..             ...           ...             ...           ...   \n",
       "145            146      0.400000        2.500000  8.449227e-07   \n",
       "146            147      0.402740        2.482993  7.229507e-07   \n",
       "147            148      0.405479        2.466216  6.182711e-07   \n",
       "148            149      0.408219        2.449664  5.284826e-07   \n",
       "149            150      0.410959        2.433333  4.515096e-07   \n",
       "\n",
       "                 Mean Rate  \n",
       "0    Yearly=52, daily= 1/7  \n",
       "1    Yearly=52, daily= 1/7  \n",
       "2    Yearly=52, daily= 1/7  \n",
       "3    Yearly=52, daily= 1/7  \n",
       "4    Yearly=52, daily= 1/7  \n",
       "..                     ...  \n",
       "145  Yearly=52, daily= 1/7  \n",
       "146  Yearly=52, daily= 1/7  \n",
       "147  Yearly=52, daily= 1/7  \n",
       "148  Yearly=52, daily= 1/7  \n",
       "149  Yearly=52, daily= 1/7  \n",
       "\n",
       "[150 rows x 5 columns]"
      ]
     },
     "execution_count": 8,
     "metadata": {},
     "output_type": "execute_result"
    }
   ],
   "source": [
    "mean_yearly_rate = int(round((1/mean_infection_period)*365))\n",
    "gamma_dict, df = mean_rate_years_gamma_df(mu=mean_yearly_rate, sd=sigma_yearly, min_range=1, max_range=150, return_gamma_dict=True)\n",
    "mean_rate_entry = 'Yearly=' + str(mean_yearly_rate) + ', daily= 1/' + str(mean_infection_period)\n",
    "df['Mean Rate'] = mean_rate_entry\n",
    "gamma_dicts['Infection Period'] = gamma_dict\n",
    "df"
   ]
  },
  {
   "cell_type": "code",
   "execution_count": 9,
   "metadata": {},
   "outputs": [
    {
     "data": {
      "text/plain": [
       "Index(['Rate per Year', 'Rate per Day', 'Period in Days', 'Probability',\n",
       "       'Mean Rate'],\n",
       "      dtype='object')"
      ]
     },
     "execution_count": 9,
     "metadata": {},
     "output_type": "execute_result"
    }
   ],
   "source": [
    "df.columns"
   ]
  },
  {
   "cell_type": "code",
   "execution_count": 10,
   "metadata": {},
   "outputs": [
    {
     "data": {
      "text/html": [
       "<div>\n",
       "<style scoped>\n",
       "    .dataframe tbody tr th:only-of-type {\n",
       "        vertical-align: middle;\n",
       "    }\n",
       "\n",
       "    .dataframe tbody tr th {\n",
       "        vertical-align: top;\n",
       "    }\n",
       "\n",
       "    .dataframe thead th {\n",
       "        text-align: right;\n",
       "    }\n",
       "</style>\n",
       "<table border=\"1\" class=\"dataframe\">\n",
       "  <thead>\n",
       "    <tr style=\"text-align: right;\">\n",
       "      <th></th>\n",
       "      <th>Mean Rate</th>\n",
       "      <th>Probability</th>\n",
       "      <th>variable</th>\n",
       "      <th>value</th>\n",
       "    </tr>\n",
       "  </thead>\n",
       "  <tbody>\n",
       "    <tr>\n",
       "      <th>0</th>\n",
       "      <td>Yearly=52, daily= 1/7</td>\n",
       "      <td>4.306742e-16</td>\n",
       "      <td>Rate per Year</td>\n",
       "      <td>1.000000</td>\n",
       "    </tr>\n",
       "    <tr>\n",
       "      <th>1</th>\n",
       "      <td>Yearly=52, daily= 1/7</td>\n",
       "      <td>7.086962e-13</td>\n",
       "      <td>Rate per Year</td>\n",
       "      <td>2.000000</td>\n",
       "    </tr>\n",
       "    <tr>\n",
       "      <th>2</th>\n",
       "      <td>Yearly=52, daily= 1/7</td>\n",
       "      <td>4.900317e-11</td>\n",
       "      <td>Rate per Year</td>\n",
       "      <td>3.000000</td>\n",
       "    </tr>\n",
       "    <tr>\n",
       "      <th>3</th>\n",
       "      <td>Yearly=52, daily= 1/7</td>\n",
       "      <td>9.255527e-10</td>\n",
       "      <td>Rate per Year</td>\n",
       "      <td>4.000000</td>\n",
       "    </tr>\n",
       "    <tr>\n",
       "      <th>4</th>\n",
       "      <td>Yearly=52, daily= 1/7</td>\n",
       "      <td>8.585466e-09</td>\n",
       "      <td>Rate per Year</td>\n",
       "      <td>5.000000</td>\n",
       "    </tr>\n",
       "    <tr>\n",
       "      <th>...</th>\n",
       "      <td>...</td>\n",
       "      <td>...</td>\n",
       "      <td>...</td>\n",
       "      <td>...</td>\n",
       "    </tr>\n",
       "    <tr>\n",
       "      <th>445</th>\n",
       "      <td>Yearly=52, daily= 1/7</td>\n",
       "      <td>8.449227e-07</td>\n",
       "      <td>Period in Days</td>\n",
       "      <td>2.500000</td>\n",
       "    </tr>\n",
       "    <tr>\n",
       "      <th>446</th>\n",
       "      <td>Yearly=52, daily= 1/7</td>\n",
       "      <td>7.229507e-07</td>\n",
       "      <td>Period in Days</td>\n",
       "      <td>2.482993</td>\n",
       "    </tr>\n",
       "    <tr>\n",
       "      <th>447</th>\n",
       "      <td>Yearly=52, daily= 1/7</td>\n",
       "      <td>6.182711e-07</td>\n",
       "      <td>Period in Days</td>\n",
       "      <td>2.466216</td>\n",
       "    </tr>\n",
       "    <tr>\n",
       "      <th>448</th>\n",
       "      <td>Yearly=52, daily= 1/7</td>\n",
       "      <td>5.284826e-07</td>\n",
       "      <td>Period in Days</td>\n",
       "      <td>2.449664</td>\n",
       "    </tr>\n",
       "    <tr>\n",
       "      <th>449</th>\n",
       "      <td>Yearly=52, daily= 1/7</td>\n",
       "      <td>4.515096e-07</td>\n",
       "      <td>Period in Days</td>\n",
       "      <td>2.433333</td>\n",
       "    </tr>\n",
       "  </tbody>\n",
       "</table>\n",
       "<p>450 rows × 4 columns</p>\n",
       "</div>"
      ],
      "text/plain": [
       "                 Mean Rate   Probability        variable     value\n",
       "0    Yearly=52, daily= 1/7  4.306742e-16   Rate per Year  1.000000\n",
       "1    Yearly=52, daily= 1/7  7.086962e-13   Rate per Year  2.000000\n",
       "2    Yearly=52, daily= 1/7  4.900317e-11   Rate per Year  3.000000\n",
       "3    Yearly=52, daily= 1/7  9.255527e-10   Rate per Year  4.000000\n",
       "4    Yearly=52, daily= 1/7  8.585466e-09   Rate per Year  5.000000\n",
       "..                     ...           ...             ...       ...\n",
       "445  Yearly=52, daily= 1/7  8.449227e-07  Period in Days  2.500000\n",
       "446  Yearly=52, daily= 1/7  7.229507e-07  Period in Days  2.482993\n",
       "447  Yearly=52, daily= 1/7  6.182711e-07  Period in Days  2.466216\n",
       "448  Yearly=52, daily= 1/7  5.284826e-07  Period in Days  2.449664\n",
       "449  Yearly=52, daily= 1/7  4.515096e-07  Period in Days  2.433333\n",
       "\n",
       "[450 rows x 4 columns]"
      ]
     },
     "execution_count": 10,
     "metadata": {},
     "output_type": "execute_result"
    }
   ],
   "source": [
    "df_melt = pd.melt(df, id_vars=['Mean Rate','Probability'])\n",
    "df_melt"
   ]
  },
  {
   "cell_type": "code",
   "execution_count": 11,
   "metadata": {},
   "outputs": [],
   "source": [
    "df_melt_mod = df_melt[df_melt['Probability']>0.0001]"
   ]
  },
  {
   "cell_type": "code",
   "execution_count": 12,
   "metadata": {},
   "outputs": [
    {
     "data": {
      "image/png": "[encoded data removed]",
      "text/plain": [
       "<Figure size 1500x500 with 3 Axes>"
      ]
     },
     "metadata": {},
     "output_type": "display_data"
    }
   ],
   "source": [
    "fig = sns.relplot(data=df_melt_mod, x=\"value\", y=\"Probability\",\n",
    "                  col=\"variable\", col_order=['Period in Days', 'Rate per Day', 'Rate per Year'],\n",
    "                  kind = 'line',\n",
    "                  facet_kws={'sharex':False})\n",
    "fig.set_titles(col_template=\"\")\n",
    "fig.axes[0,0].set_xlabel('Infectious Period in Days')\n",
    "fig.axes[0,1].set_xlabel('Rate of Becoming Uninfectious per Day')\n",
    "fig.axes[0,2].set_xlabel('Rate of Becoming Uninfectious per Year')\n",
    "plt.tight_layout()"
   ]
  },
  {
   "cell_type": "code",
   "execution_count": 13,
   "metadata": {},
   "outputs": [
    {
     "data": {
      "text/plain": [
       "Text(0.5, 0, 'Infectious Period in Days')"
      ]
     },
     "execution_count": 13,
     "metadata": {},
     "output_type": "execute_result"
    },
    {
     "data": {
      "image/png": "[encoded data removed]",
      "text/plain": [
       "<Figure size 640x480 with 1 Axes>"
      ]
     },
     "metadata": {},
     "output_type": "display_data"
    }
   ],
   "source": [
    "df_plot = df_melt_mod[df_melt_mod['variable']=='Period in Days']\n",
    "fig = sns.lineplot(data=df_plot, x='value', y=\"Probability\")\n",
    "fig.set_xlabel('Infectious Period in Days')"
   ]
  },
  {
   "attachments": {},
   "cell_type": "markdown",
   "metadata": {},
   "source": [
    "# Mean substitution rate"
   ]
  },
  {
   "cell_type": "code",
   "execution_count": 27,
   "metadata": {},
   "outputs": [],
   "source": [
    "# Set mean and standard devaition of mean\n",
    "mean_of_mean_subs = 10\n",
    "sigma_of_subs = 31.6228"
   ]
  },
  {
   "cell_type": "code",
   "execution_count": 28,
   "metadata": {},
   "outputs": [
    {
     "data": {
      "text/html": [
       "<div>\n",
       "<style scoped>\n",
       "    .dataframe tbody tr th:only-of-type {\n",
       "        vertical-align: middle;\n",
       "    }\n",
       "\n",
       "    .dataframe tbody tr th {\n",
       "        vertical-align: top;\n",
       "    }\n",
       "\n",
       "    .dataframe thead th {\n",
       "        text-align: right;\n",
       "    }\n",
       "</style>\n",
       "<table border=\"1\" class=\"dataframe\">\n",
       "  <thead>\n",
       "    <tr style=\"text-align: right;\">\n",
       "      <th></th>\n",
       "      <th>X</th>\n",
       "      <th>Probability</th>\n",
       "    </tr>\n",
       "  </thead>\n",
       "  <tbody>\n",
       "    <tr>\n",
       "      <th>0</th>\n",
       "      <td>0.0001</td>\n",
       "      <td>264.033508</td>\n",
       "    </tr>\n",
       "    <tr>\n",
       "      <th>1</th>\n",
       "      <td>0.0002</td>\n",
       "      <td>141.491897</td>\n",
       "    </tr>\n",
       "    <tr>\n",
       "      <th>2</th>\n",
       "      <td>0.0003</td>\n",
       "      <td>98.231093</td>\n",
       "    </tr>\n",
       "    <tr>\n",
       "      <th>3</th>\n",
       "      <td>0.0004</td>\n",
       "      <td>75.823471</td>\n",
       "    </tr>\n",
       "    <tr>\n",
       "      <th>4</th>\n",
       "      <td>0.0005</td>\n",
       "      <td>62.027489</td>\n",
       "    </tr>\n",
       "    <tr>\n",
       "      <th>...</th>\n",
       "      <td>...</td>\n",
       "      <td>...</td>\n",
       "    </tr>\n",
       "    <tr>\n",
       "      <th>995</th>\n",
       "      <td>0.0996</td>\n",
       "      <td>0.528194</td>\n",
       "    </tr>\n",
       "    <tr>\n",
       "      <th>996</th>\n",
       "      <td>0.0997</td>\n",
       "      <td>0.527716</td>\n",
       "    </tr>\n",
       "    <tr>\n",
       "      <th>997</th>\n",
       "      <td>0.0998</td>\n",
       "      <td>0.527240</td>\n",
       "    </tr>\n",
       "    <tr>\n",
       "      <th>998</th>\n",
       "      <td>0.0999</td>\n",
       "      <td>0.526764</td>\n",
       "    </tr>\n",
       "    <tr>\n",
       "      <th>999</th>\n",
       "      <td>0.1000</td>\n",
       "      <td>0.526290</td>\n",
       "    </tr>\n",
       "  </tbody>\n",
       "</table>\n",
       "<p>1000 rows × 2 columns</p>\n",
       "</div>"
      ],
      "text/plain": [
       "          X  Probability\n",
       "0    0.0001   264.033508\n",
       "1    0.0002   141.491897\n",
       "2    0.0003    98.231093\n",
       "3    0.0004    75.823471\n",
       "4    0.0005    62.027489\n",
       "..      ...          ...\n",
       "995  0.0996     0.528194\n",
       "996  0.0997     0.527716\n",
       "997  0.0998     0.527240\n",
       "998  0.0999     0.526764\n",
       "999  0.1000     0.526290\n",
       "\n",
       "[1000 rows x 2 columns]"
      ]
     },
     "execution_count": 28,
     "metadata": {},
     "output_type": "execute_result"
    }
   ],
   "source": [
    "gamma_dict, df = gamma_df(mu=mean_of_mean_subs, sd=sigma_of_subs, min_range=0.0001, max_range=0.1, step=0.0001, return_gamma_dict=True)\n",
    "gamma_dicts['Mean of Substitution Rate'] = gamma_dict\n",
    "df"
   ]
  },
  {
   "cell_type": "code",
   "execution_count": 29,
   "metadata": {},
   "outputs": [
    {
     "data": {
      "text/plain": [
       "Text(0.5, 0, 'Mean Substitution Rate')"
      ]
     },
     "execution_count": 29,
     "metadata": {},
     "output_type": "execute_result"
    },
    {
     "data": {
      "image/png": "[encoded data removed]",
      "text/plain": [
       "<Figure size 640x480 with 1 Axes>"
      ]
     },
     "metadata": {},
     "output_type": "display_data"
    }
   ],
   "source": [
    "df_plot = df[df['Probability']>1]\n",
    "fig = sns.lineplot(data=df_plot, x='X', y=\"Probability\")\n",
    "fig.set_xlabel('Mean Substitution Rate')"
   ]
  },
  {
   "cell_type": "code",
   "execution_count": 30,
   "metadata": {},
   "outputs": [
    {
     "data": {
      "text/plain": [
       "{'Infection Period': {'a': 12.017777777777777, 'scale': 4.326923076923077},\n",
       " 'Mean of Substitution Rate': {'a': 0.09999985201621898,\n",
       "  'scale': 100.00014798400001}}"
      ]
     },
     "execution_count": 30,
     "metadata": {},
     "output_type": "execute_result"
    }
   ],
   "source": [
    "gamma_dicts"
   ]
  },
  {
   "cell_type": "code",
   "execution_count": null,
   "metadata": {},
   "outputs": [],
   "source": []
  }
 ],
 "metadata": {
  "kernelspec": {
   "display_name": "Python 3",
   "language": "python",
   "name": "python3"
  },
  "language_info": {
   "codemirror_mode": {
    "name": "ipython",
    "version": 3
   },
   "file_extension": ".py",
   "mimetype": "text/x-python",
   "name": "python",
   "nbconvert_exporter": "python",
   "pygments_lexer": "ipython3",
   "version": "3.11.4"
  },
  "orig_nbformat": 4
 },
 "nbformat": 4,
 "nbformat_minor": 2
}
