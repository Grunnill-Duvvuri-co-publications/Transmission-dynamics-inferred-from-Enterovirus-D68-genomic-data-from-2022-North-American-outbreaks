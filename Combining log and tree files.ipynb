{
 "cells": [
  {
   "attachments": {},
   "cell_type": "markdown",
   "metadata": {},
   "source": [
    "# Combining log files"
   ]
  },
  {
   "attachments": {},
   "cell_type": "markdown",
   "metadata": {},
   "source": [
    "## Beast model using MD-2022 Enterovirus samples.\n",
    "\n",
    "\n",
    "Combine log files"
   ]
  },
  {
   "cell_type": "code",
   "execution_count": 6,
   "metadata": {},
   "outputs": [
    {
     "name": "stderr",
     "output_type": "stream",
     "text": [
      "                        LogCombiner   v2.7.5, 2002-2023\n",
      "                                        \n",
      "                                       by\n",
      "                      Andrew Rambaut and Alexei J. Drummond\n",
      "                                        \n",
      "           Institute of Evolutionary Biology, University of Edinburgh\n",
      "                               a.rambaut@ed.ac.uk \n",
      "                                        \n",
      "             Department of Computer Science, University of Auckland\n",
      "                            alexei@cs.auckland.ac.nz \n",
      "                                        \n",
      "                          Part of the BEAST 2 package:\n",
      "                               http://beast2.org/ \n",
      "                                        \n",
      "                                         \n",
      "Writing to file /home/mdgrunnill/Documents/projects/EV-D68_BEAST_better_subs_prior/beast_xmls/MD-2022/MD_combined_run_4to6.log\n",
      "Loading /home/mdgrunnill/Documents/projects/EV-D68_BEAST_better_subs_prior/beast_xmls/MD-2022/run_4/run_4.log, burnin 10%, skipping 1000 log lines\n",
      "\n",
      "|---------|---------|---------|---------|---------|---------|---------|---------|\n",
      "************************\n",
      "\n",
      "Loading /home/mdgrunnill/Documents/projects/EV-D68_BEAST_better_subs_prior/beast_xmls/MD-2022/run_5/run_5.log, burnin 10%, skipping 1000 log lines\n",
      "\n",
      "|---------|---------|---------|---------|---------|---------|---------|---------|\n",
      "************************\n",
      "\n",
      "Loading /home/mdgrunnill/Documents/projects/EV-D68_BEAST_better_subs_prior/beast_xmls/MD-2022/run_6/run_6.log, burnin 10%, skipping 1000 log lines\n",
      "\n",
      "|---------|---------|---------|---------|---------|---------|---------|---------|\n",
      "************************\n",
      "Wrote 27003 lines to /home/mdgrunnill/Documents/projects/EV-D68_BEAST_better_subs_prior/beast_xmls/MD-2022/MD_combined_run_4to6.log\n"
     ]
    }
   ],
   "source": [
    "%%bash\n",
    "cd /opt/Applications/BEASTv2.7.5/bin\n",
    "./logcombiner\\\n",
    "    -log '/home/mdgrunnill/Documents/projects/EV-D68_BEAST_better_subs_prior/beast_xmls/MD-2022/run_4/run_4.log'\\\n",
    "    -log '/home/mdgrunnill/Documents/projects/EV-D68_BEAST_better_subs_prior/beast_xmls/MD-2022/run_5/run_5.log'\\\n",
    "    -log '/home/mdgrunnill/Documents/projects/EV-D68_BEAST_better_subs_prior/beast_xmls/MD-2022/run_6/run_6.log'\\\n",
    "    -o '/home/mdgrunnill/Documents/projects/EV-D68_BEAST_better_subs_prior/beast_xmls/MD-2022/MD_combined_run_4to6.log'"
   ]
  },
  {
   "cell_type": "code",
   "execution_count": 9,
   "metadata": {},
   "outputs": [
    {
     "name": "stderr",
     "output_type": "stream",
     "text": [
      "                        LogCombiner   v2.7.5, 2002-2023\n",
      "                                        \n",
      "                                       by\n",
      "                      Andrew Rambaut and Alexei J. Drummond\n",
      "                                        \n",
      "           Institute of Evolutionary Biology, University of Edinburgh\n",
      "                               a.rambaut@ed.ac.uk \n",
      "                                        \n",
      "             Department of Computer Science, University of Auckland\n",
      "                            alexei@cs.auckland.ac.nz \n",
      "                                        \n",
      "                          Part of the BEAST 2 package:\n",
      "                               http://beast2.org/ \n",
      "                                        \n",
      "                                         \n",
      "Writing to file /home/mdgrunnill/Documents/projects/EV-D68_BEAST_better_subs_prior/beast_xmls/MD-2022/MD_combined_run_4to6.trees\n",
      "Loading /home/mdgrunnill/Documents/projects/EV-D68_BEAST_better_subs_prior/beast_xmls/MD-2022/run_4/run_4-26052023_WGS_aligned_2022EVD68_JH_PHO_only_JH.trees skipping 1000 trees\n",
      "\n",
      "|---------|---------|---------|---------|---------|---------|---------|---------|\n",
      "************************\n",
      "\n",
      "Loading /home/mdgrunnill/Documents/projects/EV-D68_BEAST_better_subs_prior/beast_xmls/MD-2022/run_5/run_5-26052023_WGS_aligned_2022EVD68_JH_PHO_only_JH.trees skipping 1000 trees\n",
      "\n",
      "|---------|---------|---------|---------|---------|---------|---------|---------|\n",
      "************************\n",
      "\n",
      "Loading /home/mdgrunnill/Documents/projects/EV-D68_BEAST_better_subs_prior/beast_xmls/MD-2022/run_6/run_6-26052023_WGS_aligned_2022EVD68_JH_PHO_only_JH.trees skipping 1000 trees\n",
      "\n",
      "|---------|---------|---------|---------|---------|---------|---------|---------|\n",
      "************************\n",
      "Wrote 27003 lines to /home/mdgrunnill/Documents/projects/EV-D68_BEAST_better_subs_prior/beast_xmls/MD-2022/MD_combined_run_4to6.trees\n"
     ]
    }
   ],
   "source": [
    "%%bash\n",
    "cd /opt/Applications/BEASTv2.7.5/bin\n",
    "./logcombiner\\\n",
    "    -log '/home/mdgrunnill/Documents/projects/EV-D68_BEAST_better_subs_prior/beast_xmls/MD-2022/run_4/run_4-26052023_WGS_aligned_2022EVD68_JH_PHO_only_JH.trees'\\\n",
    "    -log '/home/mdgrunnill/Documents/projects/EV-D68_BEAST_better_subs_prior/beast_xmls/MD-2022/run_5/run_5-26052023_WGS_aligned_2022EVD68_JH_PHO_only_JH.trees'\\\n",
    "    -log '/home/mdgrunnill/Documents/projects/EV-D68_BEAST_better_subs_prior/beast_xmls/MD-2022/run_6/run_6-26052023_WGS_aligned_2022EVD68_JH_PHO_only_JH.trees'\\\n",
    "    -o '/home/mdgrunnill/Documents/projects/EV-D68_BEAST_better_subs_prior/beast_xmls/MD-2022/MD_combined_run_4to6.trees'"
   ]
  },
  {
   "attachments": {},
   "cell_type": "markdown",
   "metadata": {},
   "source": [
    "## Beast model using ON-2022 Enterovirus samples.\n",
    "\n",
    "Combine log files"
   ]
  },
  {
   "cell_type": "code",
   "execution_count": 10,
   "metadata": {},
   "outputs": [
    {
     "name": "stderr",
     "output_type": "stream",
     "text": [
      "                        LogCombiner   v2.7.5, 2002-2023\n",
      "                                        \n",
      "                                       by\n",
      "                      Andrew Rambaut and Alexei J. Drummond\n",
      "                                        \n",
      "           Institute of Evolutionary Biology, University of Edinburgh\n",
      "                               a.rambaut@ed.ac.uk \n",
      "                                        \n",
      "             Department of Computer Science, University of Auckland\n",
      "                            alexei@cs.auckland.ac.nz \n",
      "                                        \n",
      "                          Part of the BEAST 2 package:\n",
      "                               http://beast2.org/ \n",
      "                                        \n",
      "                                         \n",
      "Writing to file /home/mdgrunnill/Documents/projects/EV-D68_BEAST_better_subs_prior/beast_xmls/ON-2022/ON_combined_run_1_3_4.log\n",
      "Loading /home/mdgrunnill/Documents/projects/EV-D68_BEAST_better_subs_prior/beast_xmls/ON-2022/run_1/run_1.log, burnin 10%, skipping 1000 log lines\n",
      "\n",
      "|---------|---------|---------|---------|---------|---------|---------|---------|\n",
      "************************\n",
      "\n",
      "Loading /home/mdgrunnill/Documents/projects/EV-D68_BEAST_better_subs_prior/beast_xmls/ON-2022/run_3/run_3.log, burnin 10%, skipping 1000 log lines\n",
      "\n",
      "|---------|---------|---------|---------|---------|---------|---------|---------|\n",
      "************************\n",
      "\n",
      "Loading /home/mdgrunnill/Documents/projects/EV-D68_BEAST_better_subs_prior/beast_xmls/ON-2022/run_4/run_4.log, burnin 10%, skipping 1000 log lines\n",
      "\n",
      "|---------|---------|---------|---------|---------|---------|---------|---------|\n",
      "************************\n",
      "Wrote 27003 lines to /home/mdgrunnill/Documents/projects/EV-D68_BEAST_better_subs_prior/beast_xmls/ON-2022/ON_combined_run_1_3_4.log\n"
     ]
    }
   ],
   "source": [
    "%%bash\n",
    "cd /opt/Applications/BEASTv2.7.5/bin\n",
    "./logcombiner\\\n",
    "    -log /home/mdgrunnill/Documents/projects/EV-D68_BEAST_better_subs_prior/beast_xmls/ON-2022/run_1/run_1.log\\\n",
    "    -log /home/mdgrunnill/Documents/projects/EV-D68_BEAST_better_subs_prior/beast_xmls/ON-2022/run_3/run_3.log\\\n",
    "    -log /home/mdgrunnill/Documents/projects/EV-D68_BEAST_better_subs_prior/beast_xmls/ON-2022/run_4/run_4.log\\\n",
    "    -o  /home/mdgrunnill/Documents/projects/EV-D68_BEAST_better_subs_prior/beast_xmls/ON-2022/ON_combined_run_1_3_4.log"
   ]
  },
  {
   "cell_type": "code",
   "execution_count": 12,
   "metadata": {},
   "outputs": [
    {
     "name": "stderr",
     "output_type": "stream",
     "text": [
      "                        LogCombiner   v2.7.5, 2002-2023\n",
      "                                        \n",
      "                                       by\n",
      "                      Andrew Rambaut and Alexei J. Drummond\n",
      "                                        \n",
      "           Institute of Evolutionary Biology, University of Edinburgh\n",
      "                               a.rambaut@ed.ac.uk \n",
      "                                        \n",
      "             Department of Computer Science, University of Auckland\n",
      "                            alexei@cs.auckland.ac.nz \n",
      "                                        \n",
      "                          Part of the BEAST 2 package:\n",
      "                               http://beast2.org/ \n",
      "                                        \n",
      "                                         \n",
      "Writing to file /home/mdgrunnill/Documents/projects/EV-D68_BEAST_better_subs_prior/beast_xmls/ON-2022/ON_combined_run_1_3_4.trees\n",
      "Loading /home/mdgrunnill/Documents/projects/EV-D68_BEAST_better_subs_prior/beast_xmls/ON-2022/run_1/run_1-26052023_WGS_aligned_2022EVD68_JH_PHO_only_PHO.trees skipping 1000 trees\n",
      "\n",
      "|---------|---------|---------|---------|---------|---------|---------|---------|\n",
      "************************\n",
      "\n",
      "Loading /home/mdgrunnill/Documents/projects/EV-D68_BEAST_better_subs_prior/beast_xmls/ON-2022/run_3/run_3-26052023_WGS_aligned_2022EVD68_JH_PHO_only_PHO.trees skipping 1000 trees\n",
      "\n",
      "|---------|---------|---------|---------|---------|---------|---------|---------|\n",
      "************************\n",
      "\n",
      "Loading /home/mdgrunnill/Documents/projects/EV-D68_BEAST_better_subs_prior/beast_xmls/ON-2022/run_4/run_4-26052023_WGS_aligned_2022EVD68_JH_PHO_only_PHO.trees skipping 1000 trees\n",
      "\n",
      "|---------|---------|---------|---------|---------|---------|---------|---------|\n",
      "************************\n",
      "Wrote 27003 lines to /home/mdgrunnill/Documents/projects/EV-D68_BEAST_better_subs_prior/beast_xmls/ON-2022/ON_combined_run_1_3_4.trees\n"
     ]
    }
   ],
   "source": [
    "%%bash\n",
    "cd /opt/Applications/BEASTv2.7.5/bin\n",
    "./logcombiner\\\n",
    "    -log /home/mdgrunnill/Documents/projects/EV-D68_BEAST_better_subs_prior/beast_xmls/ON-2022/run_1/run_1-26052023_WGS_aligned_2022EVD68_JH_PHO_only_PHO.trees\\\n",
    "    -log /home/mdgrunnill/Documents/projects/EV-D68_BEAST_better_subs_prior/beast_xmls/ON-2022/run_3/run_3-26052023_WGS_aligned_2022EVD68_JH_PHO_only_PHO.trees\\\n",
    "    -log /home/mdgrunnill/Documents/projects/EV-D68_BEAST_better_subs_prior/beast_xmls/ON-2022/run_4/run_4-26052023_WGS_aligned_2022EVD68_JH_PHO_only_PHO.trees\\\n",
    "    -o  /home/mdgrunnill/Documents/projects/EV-D68_BEAST_better_subs_prior/beast_xmls/ON-2022/ON_combined_run_1_3_4.trees"
   ]
  },
  {
   "cell_type": "code",
   "execution_count": null,
   "metadata": {},
   "outputs": [],
   "source": []
  }
 ],
 "metadata": {
  "kernelspec": {
   "display_name": "omics",
   "language": "python",
   "name": "python3"
  },
  "language_info": {
   "codemirror_mode": {
    "name": "ipython",
    "version": 3
   },
   "file_extension": ".py",
   "mimetype": "text/x-python",
   "name": "python",
   "nbconvert_exporter": "python",
   "pygments_lexer": "ipython3",
   "version": "3.11.4"
  },
  "orig_nbformat": 4
 },
 "nbformat": 4,
 "nbformat_minor": 2
}
